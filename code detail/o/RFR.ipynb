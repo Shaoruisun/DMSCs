{
 "cells": [
  {
   "cell_type": "code",
   "execution_count": 6,
   "id": "bf5dd1a2",
   "metadata": {
    "ExecuteTime": {
     "end_time": "2023-08-21T08:54:22.982768Z",
     "start_time": "2023-08-21T08:43:55.882559Z"
    }
   },
   "outputs": [
    {
     "name": "stdout",
     "output_type": "stream",
     "text": [
      "MSE 0.09106779101360231 0.7018638318357572\n",
      "RMSE 0.30177440417239215 0.8377731386453956\n",
      "MAE 0.1924207854395606 0.5334046261363634\n",
      "R2 0.9874912464212255 0.9349306332202776\n",
      "最好的参数： {'n_estimators': 80, 'random_state': 0}\n"
     ]
    }
   ],
   "source": [
    "\n",
    "import pandas as pd\n",
    "import numpy as np\n",
    "from sklearn.ensemble import RandomForestRegressor,GradientBoostingRegressor,AdaBoostRegressor,BaggingRegressor\n",
    "import sklearn\n",
    "import matplotlib.pyplot as plt\n",
    "import seaborn as sns\n",
    "from sklearn import preprocessing\n",
    "from sklearn.metrics import mean_squared_error\n",
    "from sklearn.metrics import mean_absolute_error\n",
    "from sklearn.metrics import r2_score\n",
    "from sklearn.model_selection import GridSearchCV\n",
    "from sklearn.model_selection import KFold\n",
    "from sklearn.model_selection import train_test_split\n",
    "\n",
    "df_train = pd.read_csv('./train_data.CSV')\n",
    "df_test = pd.read_csv('./test_data.CSV')\n",
    "x_train = df_train[['Z1','Z2','r1','r2','R1','R2','N1','N2','EP1','EP2','EA1','EA2','IE1','IE2']]\n",
    "y_train = df_train['△G*o']\n",
    "x_test = df_test[['Z1','Z2','r1','r2','R1','R2','N1','N2','EP1','EP2','EA1','EA2','IE1','IE2']]\n",
    "y_test = df_test['△G*o']\n",
    "\n",
    "kf = KFold(n_splits=10,shuffle = True,random_state=10)\n",
    "clf = RandomForestRegressor()\n",
    "n_estimators = [30, 40, 60, 80, 100, 200, 300, 400, 500, 600]\n",
    "random_state = [0, 5, 10, 15, 20, 30]\n",
    "param_grid = {'n_estimators':n_estimators,'random_state':random_state}\n",
    "clf_best = GridSearchCV(clf,param_grid,cv=kf)                                    \n",
    "clf_best.fit(x_train,y_train)\n",
    "\n",
    "y_train_pred=clf_best.predict(x_train)\n",
    "y_test_pred=clf_best.predict(x_test)\n",
    "train_score_mse = mean_squared_error(y_train,y_train_pred)\n",
    "test_score_mse = mean_squared_error(y_test,y_test_pred)\n",
    "train_score_rmse = np.sqrt(mean_squared_error(y_train,y_train_pred))\n",
    "test_score_rmse  =  np.sqrt(mean_squared_error(y_test,y_test_pred))\n",
    "train_score_mae = mean_absolute_error(y_train,y_train_pred)\n",
    "test_score_mae = mean_absolute_error(y_test,y_test_pred)\n",
    "train_r2_score = r2_score(y_train,y_train_pred)\n",
    "test_r2_score = r2_score(y_test,y_test_pred)\n",
    "print('MSE',train_score_mse,test_score_mse)\n",
    "print('RMSE',train_score_rmse,test_score_rmse)\n",
    "print('MAE',train_score_mae,test_score_mae)\n",
    "print('R2',train_r2_score,test_r2_score)\n",
    "print(\"best_params：\",clf_best.best_params_)"
   ]
  },
  {
   "cell_type": "code",
   "execution_count": 12,
   "id": "98fbef18",
   "metadata": {
    "ExecuteTime": {
     "end_time": "2023-08-31T07:22:54.619681Z",
     "start_time": "2023-08-31T07:22:54.223093Z"
    }
   },
   "outputs": [
    {
     "name": "stderr",
     "output_type": "stream",
     "text": [
      "meta NOT subset; don't know how to subset; dropped\n"
     ]
    },
    {
     "data": {
      "image/png": "[encoded data removed]",
      "text/plain": [
       "<Figure size 300x300 with 1 Axes>"
      ]
     },
     "metadata": {},
     "output_type": "display_data"
    }
   ],
   "source": [
    "from matplotlib.pyplot import MultipleLocator\n",
    "font={'family':\"Arial\",'size':'10.667'}\n",
    "plt.rc('font',**font)\n",
    "plt.rcParams['ps.fonttype'] = 42\n",
    "plt.rcParams['pdf.fonttype'] = 42\n",
    "fig, ax = plt.subplots(figsize = (3, 3))\n",
    "\n",
    "ax.scatter(y_train, y_train_pred, label=\"Training Set\",alpha=1, marker='o', s=6, facecolor='none', color='#1f77b4')\n",
    "ax.scatter(y_test, y_test_pred, label='Test Set',alpha=1, marker='s', s=6, facecolor='none', color='#ff7f0e')\n",
    "ax.tick_params(axis='both', labelcolor='black', width=1, length=1.1, color='black', which='major')\n",
    "#ax.tick_params(axis='both', labelcolor='black', width=1, length=2, color='black', which='minor')\n",
    "#ax.xaxis.set_minor_locator(MultipleLocator(1))\n",
    "y_major_locator=MultipleLocator(2)\n",
    "ax.yaxis.set_major_locator(y_major_locator)\n",
    "x_major_locator=MultipleLocator(2)\n",
    "ax.xaxis.set_major_locator(x_major_locator)\n",
    "ax.set_xlim(xmin= -7.5,xmax = 5.5)\n",
    "ax.set_ylim(ymin= -7.5,ymax = 5.5)\n",
    "line=ax.plot((0, 1), (0, 1), transform=ax.transAxes, ls='--',c='#A9A9A9',alpha=0.5)\n",
    "plt.setp(line, linewidth=1) \n",
    "plt.title('G*o [RFR]')\n",
    "plt.xticks(fontsize=10.667)\n",
    "plt.yticks(fontsize=10.667)\n",
    "plt.xlabel('DFT_G*o (eV)')\n",
    "plt.ylabel('ML_G*o (eV)')\n",
    "plt.legend(markerscale=1.4,frameon=True,fontsize=10.667,labelspacing=0.4,handlelength=1)\n",
    "plt.text(-0.5,-6.5,'R$^2$ : 0.9349\\nRMSE : 0.8378',fontsize=10.667,linespacing=1.7)\n",
    "#plt.savefig('gbr_go.eps',dpi=600, bbox_inches = \"tight\")  \n",
    "#plt.savefig('gbr_go.png',dpi=600, bbox_inches = \"tight\")\n",
    "plt.savefig('RFR_go.pdf',dpi=600, bbox_inches = \"tight\")\n",
    "plt.show()"
   ]
  },
  {
   "cell_type": "code",
   "execution_count": 10,
   "id": "cd983796",
   "metadata": {
    "ExecuteTime": {
     "end_time": "2023-08-21T08:54:28.268890Z",
     "start_time": "2023-08-21T08:54:28.191150Z"
    }
   },
   "outputs": [
    {
     "data": {
      "text/plain": [
       "['/home/sun/fangzhaolin/0815/go/rfr.pkl']"
      ]
     },
     "execution_count": 10,
     "metadata": {},
     "output_type": "execute_result"
    }
   ],
   "source": [
    "import joblib\n",
    "joblib.dump(clf_best.best_estimator_, './rfr.pkl')"
   ]
  }
 ],
 "metadata": {
  "kernelspec": {
   "display_name": "Python 3",
   "language": "python",
   "name": "python3"
  },
  "language_info": {
   "codemirror_mode": {
    "name": "ipython",
    "version": 3
   },
   "file_extension": ".py",
   "mimetype": "text/x-python",
   "name": "python",
   "nbconvert_exporter": "python",
   "pygments_lexer": "ipython3",
   "version": "3.7.3"
  },
  "latex_envs": {
   "LaTeX_envs_menu_present": true,
   "autoclose": false,
   "autocomplete": true,
   "bibliofile": "biblio.bib",
   "cite_by": "apalike",
   "current_citInitial": 1,
   "eqLabelWithNumbers": true,
   "eqNumInitial": 1,
   "hotkeys": {
    "equation": "Ctrl-E",
    "itemize": "Ctrl-I"
   },
   "labels_anchors": false,
   "latex_user_defs": false,
   "report_style_numbering": false,
   "user_envs_cfg": false
  },
  "toc": {
   "base_numbering": 1,
   "nav_menu": {},
   "number_sections": true,
   "sideBar": true,
   "skip_h1_title": false,
   "title_cell": "Table of Contents",
   "title_sidebar": "Contents",
   "toc_cell": false,
   "toc_position": {},
   "toc_section_display": true,
   "toc_window_display": false
  },
  "varInspector": {
   "cols": {
    "lenName": 16,
    "lenType": 16,
    "lenVar": 40
   },
   "kernels_config": {
    "python": {
     "delete_cmd_postfix": "",
     "delete_cmd_prefix": "del ",
     "library": "var_list.py",
     "varRefreshCmd": "print(var_dic_list())"
    },
    "r": {
     "delete_cmd_postfix": ") ",
     "delete_cmd_prefix": "rm(",
     "library": "var_list.r",
     "varRefreshCmd": "cat(var_dic_list()) "
    }
   },
   "types_to_exclude": [
    "module",
    "function",
    "builtin_function_or_method",
    "instance",
    "_Feature"
   ],
   "window_display": false
  }
 },
 "nbformat": 4,
 "nbformat_minor": 5
}

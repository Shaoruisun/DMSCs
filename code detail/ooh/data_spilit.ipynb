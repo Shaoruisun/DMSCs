{
 "cells": [
  {
   "cell_type": "code",
   "execution_count": 5,
   "id": "570854e7",
   "metadata": {
    "ExecuteTime": {
     "end_time": "2023-08-21T08:52:34.904559Z",
     "start_time": "2023-08-21T08:52:34.887417Z"
    }
   },
   "outputs": [],
   "source": [
    "import pandas as pd\n",
    "import numpy as np\n",
    "from sklearn.model_selection import train_test_split\n",
    "df = pd.read_csv('/home/sun/fangzhaolin/0815/gooh/sp_gooh.csv')\n",
    "X= df[['dacs','Z1','Z2','r1','r2','R1','R2','N1','N2','EP1','EP2','EA1','EA2','IE1','IE2']]\n",
    "Y = df[['△G*ooh']]\n",
    "x_train, x_test, y_train, y_test = train_test_split(X, Y, test_size=0.1, shuffle = True,random_state=2021) \n",
    "##保存并输出数据集\n",
    "x_train = pd.DataFrame(x_train)\n",
    "y_train = pd.DataFrame(y_train)\n",
    "x_test = pd.DataFrame(x_test)\n",
    "y_test = pd.DataFrame(y_test)\n",
    "\n",
    "train_index = x_train['dacs']\n",
    "train_index = pd.DataFrame(train_index)\n",
    "test_index = x_test['dacs']\n",
    "test_index = pd.DataFrame(test_index)\n",
    "x_train_data = x_train[x_train.columns[1:]]\n",
    "x_train_data = pd.DataFrame(x_train_data)\n",
    "x_test_data = x_test[x_test.columns[1:]]\n",
    "x_test_data = pd.DataFrame(x_test_data)\n",
    "\n",
    "train_data = '/home/sun/fangzhaolin/0815/gooh/train_data.CSV'\n",
    "test_data = '/home/sun/fangzhaolin/0815/gooh/test_data.CSV'\n",
    "\n",
    "pd.concat([train_index,y_train,x_train_data], axis=1).to_csv(train_data, index=False, encoding='utf-8')\n",
    "pd.concat([test_index,y_test,x_test_data], axis=1).to_csv(test_data, index=False, encoding='utf-8')\n"
   ]
  },
  {
   "cell_type": "code",
   "execution_count": null,
   "id": "7a076c10",
   "metadata": {},
   "outputs": [],
   "source": []
  }
 ],
 "metadata": {
  "kernelspec": {
   "display_name": "Python 3",
   "language": "python",
   "name": "python3"
  },
  "language_info": {
   "codemirror_mode": {
    "name": "ipython",
    "version": 3
   },
   "file_extension": ".py",
   "mimetype": "text/x-python",
   "name": "python",
   "nbconvert_exporter": "python",
   "pygments_lexer": "ipython3",
   "version": "3.7.3"
  },
  "latex_envs": {
   "LaTeX_envs_menu_present": true,
   "autoclose": false,
   "autocomplete": true,
   "bibliofile": "biblio.bib",
   "cite_by": "apalike",
   "current_citInitial": 1,
   "eqLabelWithNumbers": true,
   "eqNumInitial": 1,
   "hotkeys": {
    "equation": "Ctrl-E",
    "itemize": "Ctrl-I"
   },
   "labels_anchors": false,
   "latex_user_defs": false,
   "report_style_numbering": false,
   "user_envs_cfg": false
  },
  "toc": {
   "base_numbering": 1,
   "nav_menu": {},
   "number_sections": true,
   "sideBar": true,
   "skip_h1_title": false,
   "title_cell": "Table of Contents",
   "title_sidebar": "Contents",
   "toc_cell": false,
   "toc_position": {},
   "toc_section_display": true,
   "toc_window_display": false
  },
  "varInspector": {
   "cols": {
    "lenName": 16,
    "lenType": 16,
    "lenVar": 40
   },
   "kernels_config": {
    "python": {
     "delete_cmd_postfix": "",
     "delete_cmd_prefix": "del ",
     "library": "var_list.py",
     "varRefreshCmd": "print(var_dic_list())"
    },
    "r": {
     "delete_cmd_postfix": ") ",
     "delete_cmd_prefix": "rm(",
     "library": "var_list.r",
     "varRefreshCmd": "cat(var_dic_list()) "
    }
   },
   "types_to_exclude": [
    "module",
    "function",
    "builtin_function_or_method",
    "instance",
    "_Feature"
   ],
   "window_display": false
  }
 },
 "nbformat": 4,
 "nbformat_minor": 5
}
